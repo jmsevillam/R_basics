{
 "cells": [
  {
   "cell_type": "markdown",
   "metadata": {
    "ExecuteTime": {
     "end_time": "2019-10-15T15:44:30.670576Z",
     "start_time": "2019-10-15T15:44:30.645Z"
    }
   },
   "source": [
    "# Introduction to `R`\n",
    "\n",
    "This is the first of a series of notebooks with the principal ingredients of `r`.\n",
    "\n",
    "These are some preliminary codes."
   ]
  },
  {
   "cell_type": "markdown",
   "metadata": {
    "ExecuteTime": {
     "end_time": "2019-10-15T15:44:31.590862Z",
     "start_time": "2019-10-15T15:44:31.563Z"
    }
   },
   "source": [
    "## Experiments\n",
    "\n",
    "`R` allows us to _easily_ simulate experiments such as coin toss experiments and visualize their results on a plot. \n",
    "\n",
    "### Insights\n",
    "\n",
    "If we want to simulate a coin toss experiment, with a fair coin (So that we have the same probability to get _heads_ or _tails_ ), we need to create a _variable_ with those options (One can use just $0$ or $1$, but it is better if we want to have some visualizations).\n",
    "\n",
    "First, as we only have two options or we get _Heads_ or _Tails_ (Neglecting the probability of the coin falling on vertical position), we create the _Output Space_ which will be just a _collection_ of two elements"
   ]
  },
  {
   "cell_type": "code",
   "execution_count": 1,
   "metadata": {
    "ExecuteTime": {
     "end_time": "2019-10-15T16:20:17.547895Z",
     "start_time": "2019-10-15T16:20:17.470Z"
    }
   },
   "outputs": [],
   "source": [
    "outspace= c(\"Head\",\"Tail\")"
   ]
  },
  {
   "cell_type": "markdown",
   "metadata": {},
   "source": [
    "It is very important that we use the `c` before the parenthesis, this explicitly says, we are having a collection of things.\n",
    "\n",
    "---"
   ]
  },
  {
   "cell_type": "markdown",
   "metadata": {},
   "source": [
    "Then the experiment is basically throwing the coin several times, and evaluating the outputs, one can then, count how many are heads and how many tails.\n",
    "\n",
    "`R` has a built-in function to do so, the function `sample` stands for _Random Samples and Permutations_, the official documentation describes as\n",
    "\n",
    "> `sample` takes a sample of the specified size from the elements of `x` using either with or without replacement\n",
    "\n",
    "To see more information, use on a code cell `?sample`. \n",
    "\n",
    "We want to have this procedure several times (as many as throws), so for example let us explore this 20 times."
   ]
  },
  {
   "cell_type": "code",
   "execution_count": 2,
   "metadata": {
    "ExecuteTime": {
     "end_time": "2019-10-15T16:20:17.720435Z",
     "start_time": "2019-10-15T16:20:17.492Z"
    }
   },
   "outputs": [],
   "source": [
    "z=sample(outspace,20,replace=TRUE)"
   ]
  },
  {
   "cell_type": "markdown",
   "metadata": {},
   "source": [
    "The result of the sampling process is now saved on a variable `z`, to see it  "
   ]
  },
  {
   "cell_type": "code",
   "execution_count": 3,
   "metadata": {
    "ExecuteTime": {
     "end_time": "2019-10-15T16:20:17.754343Z",
     "start_time": "2019-10-15T16:20:17.498Z"
    }
   },
   "outputs": [
    {
     "data": {
      "text/html": [
       "<ol class=list-inline>\n",
       "\t<li>'Tail'</li>\n",
       "\t<li>'Head'</li>\n",
       "\t<li>'Head'</li>\n",
       "\t<li>'Head'</li>\n",
       "\t<li>'Tail'</li>\n",
       "\t<li>'Head'</li>\n",
       "\t<li>'Head'</li>\n",
       "\t<li>'Tail'</li>\n",
       "\t<li>'Tail'</li>\n",
       "\t<li>'Tail'</li>\n",
       "\t<li>'Head'</li>\n",
       "\t<li>'Tail'</li>\n",
       "\t<li>'Tail'</li>\n",
       "\t<li>'Tail'</li>\n",
       "\t<li>'Tail'</li>\n",
       "\t<li>'Tail'</li>\n",
       "\t<li>'Head'</li>\n",
       "\t<li>'Tail'</li>\n",
       "\t<li>'Head'</li>\n",
       "\t<li>'Head'</li>\n",
       "</ol>\n"
      ],
      "text/latex": [
       "\\begin{enumerate*}\n",
       "\\item 'Tail'\n",
       "\\item 'Head'\n",
       "\\item 'Head'\n",
       "\\item 'Head'\n",
       "\\item 'Tail'\n",
       "\\item 'Head'\n",
       "\\item 'Head'\n",
       "\\item 'Tail'\n",
       "\\item 'Tail'\n",
       "\\item 'Tail'\n",
       "\\item 'Head'\n",
       "\\item 'Tail'\n",
       "\\item 'Tail'\n",
       "\\item 'Tail'\n",
       "\\item 'Tail'\n",
       "\\item 'Tail'\n",
       "\\item 'Head'\n",
       "\\item 'Tail'\n",
       "\\item 'Head'\n",
       "\\item 'Head'\n",
       "\\end{enumerate*}\n"
      ],
      "text/markdown": [
       "1. 'Tail'\n",
       "2. 'Head'\n",
       "3. 'Head'\n",
       "4. 'Head'\n",
       "5. 'Tail'\n",
       "6. 'Head'\n",
       "7. 'Head'\n",
       "8. 'Tail'\n",
       "9. 'Tail'\n",
       "10. 'Tail'\n",
       "11. 'Head'\n",
       "12. 'Tail'\n",
       "13. 'Tail'\n",
       "14. 'Tail'\n",
       "15. 'Tail'\n",
       "16. 'Tail'\n",
       "17. 'Head'\n",
       "18. 'Tail'\n",
       "19. 'Head'\n",
       "20. 'Head'\n",
       "\n",
       "\n"
      ],
      "text/plain": [
       " [1] \"Tail\" \"Head\" \"Head\" \"Head\" \"Tail\" \"Head\" \"Head\" \"Tail\" \"Tail\" \"Tail\"\n",
       "[11] \"Head\" \"Tail\" \"Tail\" \"Tail\" \"Tail\" \"Tail\" \"Head\" \"Tail\" \"Head\" \"Head\""
      ]
     },
     "metadata": {},
     "output_type": "display_data"
    }
   ],
   "source": [
    "z"
   ]
  },
  {
   "cell_type": "markdown",
   "metadata": {},
   "source": [
    "Let us now, have more than $20$ experiments, and here, we are going to see a lot of structure that is natural on `R` (Also in other languages such as `python` because of their vectorized nature)."
   ]
  },
  {
   "cell_type": "markdown",
   "metadata": {},
   "source": [
    "Suppose that we want to repeat this $5000$ times, but we want to have this value saved on a variable so that it can be easily changed"
   ]
  },
  {
   "cell_type": "code",
   "execution_count": 4,
   "metadata": {
    "ExecuteTime": {
     "end_time": "2019-10-15T16:20:17.785269Z",
     "start_time": "2019-10-15T16:20:17.508Z"
    }
   },
   "outputs": [],
   "source": [
    "n=5000 #Number of repetitions"
   ]
  },
  {
   "cell_type": "markdown",
   "metadata": {},
   "source": [
    "Let us now, use the `sample` function, but $n$ times, and save the results on a variable. We don't have to save it, but as the output is very large, it is better to have it saved and visualize the results with a plot."
   ]
  },
  {
   "cell_type": "code",
   "execution_count": 5,
   "metadata": {
    "ExecuteTime": {
     "end_time": "2019-10-15T16:20:17.824162Z",
     "start_time": "2019-10-15T16:20:17.518Z"
    }
   },
   "outputs": [],
   "source": [
    "outc= sample(outspace,n,replace=T)"
   ]
  },
  {
   "cell_type": "markdown",
   "metadata": {},
   "source": [
    "Look that it is not necessary to have the complete word `TRUE`, with a `T` is enough. \n",
    "\n",
    "---\n"
   ]
  },
  {
   "cell_type": "markdown",
   "metadata": {
    "ExecuteTime": {
     "end_time": "2019-10-15T16:08:24.698580Z",
     "start_time": "2019-10-15T16:08:24.683Z"
    }
   },
   "source": [
    "Now, How can we count how many \"Heads\" we got?\n",
    "Look that we have saved on `outc` the output of the $5000$ repetitions of the experiment, let us print just $50$ of the outputs"
   ]
  },
  {
   "cell_type": "code",
   "execution_count": 6,
   "metadata": {
    "ExecuteTime": {
     "end_time": "2019-10-15T16:20:17.869038Z",
     "start_time": "2019-10-15T16:20:17.537Z"
    }
   },
   "outputs": [
    {
     "data": {
      "text/html": [
       "<ol class=list-inline>\n",
       "\t<li>'Tail'</li>\n",
       "\t<li>'Head'</li>\n",
       "\t<li>'Tail'</li>\n",
       "\t<li>'Head'</li>\n",
       "\t<li>'Head'</li>\n",
       "\t<li>'Tail'</li>\n",
       "\t<li>'Head'</li>\n",
       "\t<li>'Head'</li>\n",
       "\t<li>'Head'</li>\n",
       "\t<li>'Tail'</li>\n",
       "\t<li>'Tail'</li>\n",
       "\t<li>'Head'</li>\n",
       "\t<li>'Tail'</li>\n",
       "\t<li>'Head'</li>\n",
       "\t<li>'Head'</li>\n",
       "\t<li>'Tail'</li>\n",
       "\t<li>'Tail'</li>\n",
       "\t<li>'Tail'</li>\n",
       "\t<li>'Tail'</li>\n",
       "\t<li>'Head'</li>\n",
       "\t<li>'Tail'</li>\n",
       "\t<li>'Tail'</li>\n",
       "\t<li>'Tail'</li>\n",
       "\t<li>'Head'</li>\n",
       "\t<li>'Tail'</li>\n",
       "\t<li>'Head'</li>\n",
       "\t<li>'Tail'</li>\n",
       "\t<li>'Tail'</li>\n",
       "\t<li>'Tail'</li>\n",
       "\t<li>'Head'</li>\n",
       "\t<li>'Tail'</li>\n",
       "\t<li>'Tail'</li>\n",
       "\t<li>'Tail'</li>\n",
       "\t<li>'Tail'</li>\n",
       "\t<li>'Tail'</li>\n",
       "\t<li>'Head'</li>\n",
       "\t<li>'Head'</li>\n",
       "\t<li>'Head'</li>\n",
       "\t<li>'Tail'</li>\n",
       "\t<li>'Head'</li>\n",
       "\t<li>'Head'</li>\n",
       "\t<li>'Head'</li>\n",
       "\t<li>'Tail'</li>\n",
       "\t<li>'Head'</li>\n",
       "\t<li>'Tail'</li>\n",
       "\t<li>'Head'</li>\n",
       "\t<li>'Tail'</li>\n",
       "\t<li>'Tail'</li>\n",
       "\t<li>'Tail'</li>\n",
       "\t<li>'Tail'</li>\n",
       "</ol>\n"
      ],
      "text/latex": [
       "\\begin{enumerate*}\n",
       "\\item 'Tail'\n",
       "\\item 'Head'\n",
       "\\item 'Tail'\n",
       "\\item 'Head'\n",
       "\\item 'Head'\n",
       "\\item 'Tail'\n",
       "\\item 'Head'\n",
       "\\item 'Head'\n",
       "\\item 'Head'\n",
       "\\item 'Tail'\n",
       "\\item 'Tail'\n",
       "\\item 'Head'\n",
       "\\item 'Tail'\n",
       "\\item 'Head'\n",
       "\\item 'Head'\n",
       "\\item 'Tail'\n",
       "\\item 'Tail'\n",
       "\\item 'Tail'\n",
       "\\item 'Tail'\n",
       "\\item 'Head'\n",
       "\\item 'Tail'\n",
       "\\item 'Tail'\n",
       "\\item 'Tail'\n",
       "\\item 'Head'\n",
       "\\item 'Tail'\n",
       "\\item 'Head'\n",
       "\\item 'Tail'\n",
       "\\item 'Tail'\n",
       "\\item 'Tail'\n",
       "\\item 'Head'\n",
       "\\item 'Tail'\n",
       "\\item 'Tail'\n",
       "\\item 'Tail'\n",
       "\\item 'Tail'\n",
       "\\item 'Tail'\n",
       "\\item 'Head'\n",
       "\\item 'Head'\n",
       "\\item 'Head'\n",
       "\\item 'Tail'\n",
       "\\item 'Head'\n",
       "\\item 'Head'\n",
       "\\item 'Head'\n",
       "\\item 'Tail'\n",
       "\\item 'Head'\n",
       "\\item 'Tail'\n",
       "\\item 'Head'\n",
       "\\item 'Tail'\n",
       "\\item 'Tail'\n",
       "\\item 'Tail'\n",
       "\\item 'Tail'\n",
       "\\end{enumerate*}\n"
      ],
      "text/markdown": [
       "1. 'Tail'\n",
       "2. 'Head'\n",
       "3. 'Tail'\n",
       "4. 'Head'\n",
       "5. 'Head'\n",
       "6. 'Tail'\n",
       "7. 'Head'\n",
       "8. 'Head'\n",
       "9. 'Head'\n",
       "10. 'Tail'\n",
       "11. 'Tail'\n",
       "12. 'Head'\n",
       "13. 'Tail'\n",
       "14. 'Head'\n",
       "15. 'Head'\n",
       "16. 'Tail'\n",
       "17. 'Tail'\n",
       "18. 'Tail'\n",
       "19. 'Tail'\n",
       "20. 'Head'\n",
       "21. 'Tail'\n",
       "22. 'Tail'\n",
       "23. 'Tail'\n",
       "24. 'Head'\n",
       "25. 'Tail'\n",
       "26. 'Head'\n",
       "27. 'Tail'\n",
       "28. 'Tail'\n",
       "29. 'Tail'\n",
       "30. 'Head'\n",
       "31. 'Tail'\n",
       "32. 'Tail'\n",
       "33. 'Tail'\n",
       "34. 'Tail'\n",
       "35. 'Tail'\n",
       "36. 'Head'\n",
       "37. 'Head'\n",
       "38. 'Head'\n",
       "39. 'Tail'\n",
       "40. 'Head'\n",
       "41. 'Head'\n",
       "42. 'Head'\n",
       "43. 'Tail'\n",
       "44. 'Head'\n",
       "45. 'Tail'\n",
       "46. 'Head'\n",
       "47. 'Tail'\n",
       "48. 'Tail'\n",
       "49. 'Tail'\n",
       "50. 'Tail'\n",
       "\n",
       "\n"
      ],
      "text/plain": [
       " [1] \"Tail\" \"Head\" \"Tail\" \"Head\" \"Head\" \"Tail\" \"Head\" \"Head\" \"Head\" \"Tail\"\n",
       "[11] \"Tail\" \"Head\" \"Tail\" \"Head\" \"Head\" \"Tail\" \"Tail\" \"Tail\" \"Tail\" \"Head\"\n",
       "[21] \"Tail\" \"Tail\" \"Tail\" \"Head\" \"Tail\" \"Head\" \"Tail\" \"Tail\" \"Tail\" \"Head\"\n",
       "[31] \"Tail\" \"Tail\" \"Tail\" \"Tail\" \"Tail\" \"Head\" \"Head\" \"Head\" \"Tail\" \"Head\"\n",
       "[41] \"Head\" \"Head\" \"Tail\" \"Head\" \"Tail\" \"Head\" \"Tail\" \"Tail\" \"Tail\" \"Tail\""
      ]
     },
     "metadata": {},
     "output_type": "display_data"
    }
   ],
   "source": [
    "outc[0:50]"
   ]
  },
  {
   "cell_type": "markdown",
   "metadata": {
    "ExecuteTime": {
     "end_time": "2019-10-15T16:11:36.162194Z",
     "start_time": "2019-10-15T16:11:36.147Z"
    }
   },
   "source": [
    "It is like a _list_ of the outputs, and look, we can _ask_ `R` wich one of them have the value `\"Head\"`"
   ]
  },
  {
   "cell_type": "code",
   "execution_count": 7,
   "metadata": {
    "ExecuteTime": {
     "end_time": "2019-10-15T16:20:17.919903Z",
     "start_time": "2019-10-15T16:20:17.547Z"
    }
   },
   "outputs": [
    {
     "data": {
      "text/html": [
       "<ol class=list-inline>\n",
       "\t<li>FALSE</li>\n",
       "\t<li>TRUE</li>\n",
       "\t<li>FALSE</li>\n",
       "\t<li>TRUE</li>\n",
       "\t<li>TRUE</li>\n",
       "\t<li>FALSE</li>\n",
       "\t<li>TRUE</li>\n",
       "\t<li>TRUE</li>\n",
       "\t<li>TRUE</li>\n",
       "\t<li>FALSE</li>\n",
       "\t<li>FALSE</li>\n",
       "\t<li>TRUE</li>\n",
       "\t<li>FALSE</li>\n",
       "\t<li>TRUE</li>\n",
       "\t<li>TRUE</li>\n",
       "\t<li>FALSE</li>\n",
       "\t<li>FALSE</li>\n",
       "\t<li>FALSE</li>\n",
       "\t<li>FALSE</li>\n",
       "\t<li>TRUE</li>\n",
       "\t<li>FALSE</li>\n",
       "\t<li>FALSE</li>\n",
       "\t<li>FALSE</li>\n",
       "\t<li>TRUE</li>\n",
       "\t<li>FALSE</li>\n",
       "\t<li>TRUE</li>\n",
       "\t<li>FALSE</li>\n",
       "\t<li>FALSE</li>\n",
       "\t<li>FALSE</li>\n",
       "\t<li>TRUE</li>\n",
       "\t<li>FALSE</li>\n",
       "\t<li>FALSE</li>\n",
       "\t<li>FALSE</li>\n",
       "\t<li>FALSE</li>\n",
       "\t<li>FALSE</li>\n",
       "\t<li>TRUE</li>\n",
       "\t<li>TRUE</li>\n",
       "\t<li>TRUE</li>\n",
       "\t<li>FALSE</li>\n",
       "\t<li>TRUE</li>\n",
       "\t<li>TRUE</li>\n",
       "\t<li>TRUE</li>\n",
       "\t<li>FALSE</li>\n",
       "\t<li>TRUE</li>\n",
       "\t<li>FALSE</li>\n",
       "\t<li>TRUE</li>\n",
       "\t<li>FALSE</li>\n",
       "\t<li>FALSE</li>\n",
       "\t<li>FALSE</li>\n",
       "\t<li>FALSE</li>\n",
       "</ol>\n"
      ],
      "text/latex": [
       "\\begin{enumerate*}\n",
       "\\item FALSE\n",
       "\\item TRUE\n",
       "\\item FALSE\n",
       "\\item TRUE\n",
       "\\item TRUE\n",
       "\\item FALSE\n",
       "\\item TRUE\n",
       "\\item TRUE\n",
       "\\item TRUE\n",
       "\\item FALSE\n",
       "\\item FALSE\n",
       "\\item TRUE\n",
       "\\item FALSE\n",
       "\\item TRUE\n",
       "\\item TRUE\n",
       "\\item FALSE\n",
       "\\item FALSE\n",
       "\\item FALSE\n",
       "\\item FALSE\n",
       "\\item TRUE\n",
       "\\item FALSE\n",
       "\\item FALSE\n",
       "\\item FALSE\n",
       "\\item TRUE\n",
       "\\item FALSE\n",
       "\\item TRUE\n",
       "\\item FALSE\n",
       "\\item FALSE\n",
       "\\item FALSE\n",
       "\\item TRUE\n",
       "\\item FALSE\n",
       "\\item FALSE\n",
       "\\item FALSE\n",
       "\\item FALSE\n",
       "\\item FALSE\n",
       "\\item TRUE\n",
       "\\item TRUE\n",
       "\\item TRUE\n",
       "\\item FALSE\n",
       "\\item TRUE\n",
       "\\item TRUE\n",
       "\\item TRUE\n",
       "\\item FALSE\n",
       "\\item TRUE\n",
       "\\item FALSE\n",
       "\\item TRUE\n",
       "\\item FALSE\n",
       "\\item FALSE\n",
       "\\item FALSE\n",
       "\\item FALSE\n",
       "\\end{enumerate*}\n"
      ],
      "text/markdown": [
       "1. FALSE\n",
       "2. TRUE\n",
       "3. FALSE\n",
       "4. TRUE\n",
       "5. TRUE\n",
       "6. FALSE\n",
       "7. TRUE\n",
       "8. TRUE\n",
       "9. TRUE\n",
       "10. FALSE\n",
       "11. FALSE\n",
       "12. TRUE\n",
       "13. FALSE\n",
       "14. TRUE\n",
       "15. TRUE\n",
       "16. FALSE\n",
       "17. FALSE\n",
       "18. FALSE\n",
       "19. FALSE\n",
       "20. TRUE\n",
       "21. FALSE\n",
       "22. FALSE\n",
       "23. FALSE\n",
       "24. TRUE\n",
       "25. FALSE\n",
       "26. TRUE\n",
       "27. FALSE\n",
       "28. FALSE\n",
       "29. FALSE\n",
       "30. TRUE\n",
       "31. FALSE\n",
       "32. FALSE\n",
       "33. FALSE\n",
       "34. FALSE\n",
       "35. FALSE\n",
       "36. TRUE\n",
       "37. TRUE\n",
       "38. TRUE\n",
       "39. FALSE\n",
       "40. TRUE\n",
       "41. TRUE\n",
       "42. TRUE\n",
       "43. FALSE\n",
       "44. TRUE\n",
       "45. FALSE\n",
       "46. TRUE\n",
       "47. FALSE\n",
       "48. FALSE\n",
       "49. FALSE\n",
       "50. FALSE\n",
       "\n",
       "\n"
      ],
      "text/plain": [
       " [1] FALSE  TRUE FALSE  TRUE  TRUE FALSE  TRUE  TRUE  TRUE FALSE FALSE  TRUE\n",
       "[13] FALSE  TRUE  TRUE FALSE FALSE FALSE FALSE  TRUE FALSE FALSE FALSE  TRUE\n",
       "[25] FALSE  TRUE FALSE FALSE FALSE  TRUE FALSE FALSE FALSE FALSE FALSE  TRUE\n",
       "[37]  TRUE  TRUE FALSE  TRUE  TRUE  TRUE FALSE  TRUE FALSE  TRUE FALSE FALSE\n",
       "[49] FALSE FALSE"
      ]
     },
     "metadata": {},
     "output_type": "display_data"
    }
   ],
   "source": [
    "outc[1:50]==\"Head\""
   ]
  },
  {
   "cell_type": "markdown",
   "metadata": {},
   "source": [
    "It is very important that we have used the double `==`, if we use one is an asignation but if we use two instead we get comparison.\n",
    "\n",
    "It is commonly understood that the `TRUE` values are taken as $1$, and the `FALSE` values as $0$. (It is important that we HAVE to use the uppercase words true or false). So we can sum how many `TRUE` values we have until a certain component of the list, this is done with the `cumsum` function  "
   ]
  },
  {
   "cell_type": "code",
   "execution_count": 8,
   "metadata": {
    "ExecuteTime": {
     "end_time": "2019-10-15T16:20:17.967775Z",
     "start_time": "2019-10-15T16:20:17.558Z"
    }
   },
   "outputs": [],
   "source": [
    "z=cumsum(outc==\"Head\")"
   ]
  },
  {
   "cell_type": "markdown",
   "metadata": {},
   "source": [
    "For example, supose that you have the following list\n",
    "```python \n",
    "[1,3,5,2,1]\n",
    "```\n",
    "The `cumsum` function should simply return something as\n",
    "```python \n",
    "[1,4,9,11,12]\n",
    "```\n",
    "in other words, sum the values of the precedent cells."
   ]
  },
  {
   "cell_type": "code",
   "execution_count": 9,
   "metadata": {
    "ExecuteTime": {
     "end_time": "2019-10-15T16:20:18.008665Z",
     "start_time": "2019-10-15T16:20:17.567Z"
    }
   },
   "outputs": [
    {
     "data": {
      "text/html": [
       "<ol class=list-inline>\n",
       "\t<li>0</li>\n",
       "\t<li>1</li>\n",
       "\t<li>1</li>\n",
       "\t<li>2</li>\n",
       "\t<li>3</li>\n",
       "\t<li>3</li>\n",
       "\t<li>4</li>\n",
       "\t<li>5</li>\n",
       "\t<li>6</li>\n",
       "\t<li>6</li>\n",
       "\t<li>6</li>\n",
       "\t<li>7</li>\n",
       "\t<li>7</li>\n",
       "\t<li>8</li>\n",
       "\t<li>9</li>\n",
       "\t<li>9</li>\n",
       "\t<li>9</li>\n",
       "\t<li>9</li>\n",
       "\t<li>9</li>\n",
       "\t<li>10</li>\n",
       "\t<li>10</li>\n",
       "\t<li>10</li>\n",
       "\t<li>10</li>\n",
       "\t<li>11</li>\n",
       "\t<li>11</li>\n",
       "\t<li>12</li>\n",
       "\t<li>12</li>\n",
       "\t<li>12</li>\n",
       "\t<li>12</li>\n",
       "\t<li>13</li>\n",
       "\t<li>13</li>\n",
       "\t<li>13</li>\n",
       "\t<li>13</li>\n",
       "\t<li>13</li>\n",
       "\t<li>13</li>\n",
       "\t<li>14</li>\n",
       "\t<li>15</li>\n",
       "\t<li>16</li>\n",
       "\t<li>16</li>\n",
       "\t<li>17</li>\n",
       "\t<li>18</li>\n",
       "\t<li>19</li>\n",
       "\t<li>19</li>\n",
       "\t<li>20</li>\n",
       "\t<li>20</li>\n",
       "\t<li>21</li>\n",
       "\t<li>21</li>\n",
       "\t<li>21</li>\n",
       "\t<li>21</li>\n",
       "\t<li>21</li>\n",
       "</ol>\n"
      ],
      "text/latex": [
       "\\begin{enumerate*}\n",
       "\\item 0\n",
       "\\item 1\n",
       "\\item 1\n",
       "\\item 2\n",
       "\\item 3\n",
       "\\item 3\n",
       "\\item 4\n",
       "\\item 5\n",
       "\\item 6\n",
       "\\item 6\n",
       "\\item 6\n",
       "\\item 7\n",
       "\\item 7\n",
       "\\item 8\n",
       "\\item 9\n",
       "\\item 9\n",
       "\\item 9\n",
       "\\item 9\n",
       "\\item 9\n",
       "\\item 10\n",
       "\\item 10\n",
       "\\item 10\n",
       "\\item 10\n",
       "\\item 11\n",
       "\\item 11\n",
       "\\item 12\n",
       "\\item 12\n",
       "\\item 12\n",
       "\\item 12\n",
       "\\item 13\n",
       "\\item 13\n",
       "\\item 13\n",
       "\\item 13\n",
       "\\item 13\n",
       "\\item 13\n",
       "\\item 14\n",
       "\\item 15\n",
       "\\item 16\n",
       "\\item 16\n",
       "\\item 17\n",
       "\\item 18\n",
       "\\item 19\n",
       "\\item 19\n",
       "\\item 20\n",
       "\\item 20\n",
       "\\item 21\n",
       "\\item 21\n",
       "\\item 21\n",
       "\\item 21\n",
       "\\item 21\n",
       "\\end{enumerate*}\n"
      ],
      "text/markdown": [
       "1. 0\n",
       "2. 1\n",
       "3. 1\n",
       "4. 2\n",
       "5. 3\n",
       "6. 3\n",
       "7. 4\n",
       "8. 5\n",
       "9. 6\n",
       "10. 6\n",
       "11. 6\n",
       "12. 7\n",
       "13. 7\n",
       "14. 8\n",
       "15. 9\n",
       "16. 9\n",
       "17. 9\n",
       "18. 9\n",
       "19. 9\n",
       "20. 10\n",
       "21. 10\n",
       "22. 10\n",
       "23. 10\n",
       "24. 11\n",
       "25. 11\n",
       "26. 12\n",
       "27. 12\n",
       "28. 12\n",
       "29. 12\n",
       "30. 13\n",
       "31. 13\n",
       "32. 13\n",
       "33. 13\n",
       "34. 13\n",
       "35. 13\n",
       "36. 14\n",
       "37. 15\n",
       "38. 16\n",
       "39. 16\n",
       "40. 17\n",
       "41. 18\n",
       "42. 19\n",
       "43. 19\n",
       "44. 20\n",
       "45. 20\n",
       "46. 21\n",
       "47. 21\n",
       "48. 21\n",
       "49. 21\n",
       "50. 21\n",
       "\n",
       "\n"
      ],
      "text/plain": [
       " [1]  0  1  1  2  3  3  4  5  6  6  6  7  7  8  9  9  9  9  9 10 10 10 10 11 11\n",
       "[26] 12 12 12 12 13 13 13 13 13 13 14 15 16 16 17 18 19 19 20 20 21 21 21 21 21"
      ]
     },
     "metadata": {},
     "output_type": "display_data"
    }
   ],
   "source": [
    "z[0:50]"
   ]
  },
  {
   "cell_type": "code",
   "execution_count": 10,
   "metadata": {
    "ExecuteTime": {
     "end_time": "2019-10-15T16:20:18.053544Z",
     "start_time": "2019-10-15T16:20:17.570Z"
    }
   },
   "outputs": [],
   "source": [
    "z=cumsum(outc==\"Head\")/seq(1,n)"
   ]
  },
  {
   "cell_type": "code",
   "execution_count": 11,
   "metadata": {
    "ExecuteTime": {
     "end_time": "2019-10-15T16:20:18.425554Z",
     "start_time": "2019-10-15T16:20:17.572Z"
    }
   },
   "outputs": [
    {
     "data": {
      "image/png": "[encoded data removed]",
      "text/plain": [
       "plot without title"
      ]
     },
     "metadata": {},
     "output_type": "display_data"
    }
   ],
   "source": [
    "plot(z)"
   ]
  },
  {
   "cell_type": "code",
   "execution_count": 12,
   "metadata": {
    "ExecuteTime": {
     "end_time": "2019-10-15T16:20:18.534276Z",
     "start_time": "2019-10-15T16:20:17.576Z"
    }
   },
   "outputs": [
    {
     "data": {
      "image/png": "[encoded data removed]",
      "text/plain": [
       "plot without title"
      ]
     },
     "metadata": {},
     "output_type": "display_data"
    }
   ],
   "source": [
    "plot(z, xlab=\"Flips\", ylab=\"Frequency of Heads\",type=\"l\")"
   ]
  },
  {
   "cell_type": "code",
   "execution_count": 13,
   "metadata": {
    "ExecuteTime": {
     "end_time": "2019-10-15T16:20:18.643969Z",
     "start_time": "2019-10-15T16:20:17.580Z"
    }
   },
   "outputs": [
    {
     "data": {
      "image/png": "[encoded data removed]",
      "text/plain": [
       "plot without title"
      ]
     },
     "metadata": {},
     "output_type": "display_data"
    }
   ],
   "source": [
    "plot(z, xlab=\"Flips\", ylab=\"Frequency of Heads\",type=\"l\")\n",
    "abline(h=0.5, col=\"grey\")"
   ]
  }
 ],
 "metadata": {
  "kernelspec": {
   "display_name": "R",
   "language": "R",
   "name": "ir"
  },
  "language_info": {
   "codemirror_mode": "r",
   "file_extension": ".r",
   "mimetype": "text/x-r-source",
   "name": "R",
   "pygments_lexer": "r",
   "version": "3.6.1"
  },
  "latex_envs": {
   "LaTeX_envs_menu_present": true,
   "autoclose": true,
   "autocomplete": true,
   "bibliofile": "biblio.bib",
   "cite_by": "apalike",
   "current_citInitial": 1,
   "eqLabelWithNumbers": true,
   "eqNumInitial": 1,
   "hotkeys": {
    "equation": "Ctrl-E",
    "itemize": "Ctrl-I"
   },
   "labels_anchors": false,
   "latex_user_defs": false,
   "report_style_numbering": true,
   "user_envs_cfg": false
  },
  "varInspector": {
   "cols": {
    "lenName": 16,
    "lenType": 16,
    "lenVar": 40
   },
   "kernels_config": {
    "python": {
     "delete_cmd_postfix": "",
     "delete_cmd_prefix": "del ",
     "library": "var_list.py",
     "varRefreshCmd": "print(var_dic_list())"
    },
    "r": {
     "delete_cmd_postfix": ") ",
     "delete_cmd_prefix": "rm(",
     "library": "var_list.r",
     "varRefreshCmd": "cat(var_dic_list()) "
    }
   },
   "types_to_exclude": [
    "module",
    "function",
    "builtin_function_or_method",
    "instance",
    "_Feature"
   ],
   "window_display": false
  }
 },
 "nbformat": 4,
 "nbformat_minor": 2
}
