{
 "cells": [
  {
   "cell_type": "markdown",
   "metadata": {
    "ExecuteTime": {
     "end_time": "2019-10-15T15:44:30.670576Z",
     "start_time": "2019-10-15T15:44:30.645Z"
    }
   },
   "source": [
    "# Introduction to `R`\n",
    "\n",
    "This is the first of a series of notebooks with the principal ingredients of `r`.\n",
    "\n",
    "These are some preliminary codes."
   ]
  },
  {
   "cell_type": "markdown",
   "metadata": {
    "ExecuteTime": {
     "end_time": "2019-10-15T15:44:31.590862Z",
     "start_time": "2019-10-15T15:44:31.563Z"
    }
   },
   "source": [
    "## Experiments\n",
    "\n",
    "`R` allows us to _easily_ simulate experiments such as coin toss experiments and visualize their results on a plot. \n",
    "\n",
    "### Insights\n",
    "\n",
    "If we want to simulate a coin toss experiment, with a fair coin (So that we have the same probability to get _heads_ or _tails_ ), we need to create a _variable_ with those options (One can use just $0$ or $1$, but it is better if we want to have some visualizations).\n",
    "\n",
    "First, as we only have two options or we get _Heads_ or _Tails_ (Neglecting the probability of the coin falling on vertical position), we create the _Output Space_ which will be just a _collection_ of two elements"
   ]
  },
  {
   "cell_type": "code",
   "execution_count": 17,
   "metadata": {
    "ExecuteTime": {
     "end_time": "2019-10-15T16:29:43.814408Z",
     "start_time": "2019-10-15T16:29:43.792Z"
    }
   },
   "outputs": [],
   "source": [
    "outspace= c(\"Head\",\"Tail\")"
   ]
  },
  {
   "cell_type": "markdown",
   "metadata": {},
   "source": [
    "It is very important that we use the `c` before the parenthesis, this explicitly says, we are having a collection of things.\n",
    "\n",
    "---"
   ]
  },
  {
   "cell_type": "markdown",
   "metadata": {},
   "source": [
    "Then the experiment is basically throwing the coin several times, and evaluating the outputs, one can then, count how many are heads and how many tails.\n",
    "\n",
    "`R` has a built-in function to do so, the function `sample` stands for _Random Samples and Permutations_, the official documentation describes as\n",
    "\n",
    "> `sample` takes a sample of the specified size from the elements of `x` using either with or without replacement\n",
    "\n",
    "To see more information, use on a code cell `?sample`. \n",
    "\n",
    "We want to have this procedure several times (as many as throws), so for example let us explore this 20 times."
   ]
  },
  {
   "cell_type": "code",
   "execution_count": 18,
   "metadata": {
    "ExecuteTime": {
     "end_time": "2019-10-15T16:29:44.403941Z",
     "start_time": "2019-10-15T16:29:44.383Z"
    }
   },
   "outputs": [],
   "source": [
    "z=sample(outspace,20,replace=TRUE)"
   ]
  },
  {
   "cell_type": "markdown",
   "metadata": {},
   "source": [
    "The result of the sampling process is now saved on a variable `z`, to see it  "
   ]
  },
  {
   "cell_type": "code",
   "execution_count": 19,
   "metadata": {
    "ExecuteTime": {
     "end_time": "2019-10-15T16:29:44.808871Z",
     "start_time": "2019-10-15T16:29:44.785Z"
    }
   },
   "outputs": [
    {
     "data": {
      "text/html": [
       "<ol class=list-inline>\n",
       "\t<li>'Tail'</li>\n",
       "\t<li>'Tail'</li>\n",
       "\t<li>'Head'</li>\n",
       "\t<li>'Tail'</li>\n",
       "\t<li>'Head'</li>\n",
       "\t<li>'Head'</li>\n",
       "\t<li>'Tail'</li>\n",
       "\t<li>'Tail'</li>\n",
       "\t<li>'Tail'</li>\n",
       "\t<li>'Tail'</li>\n",
       "\t<li>'Tail'</li>\n",
       "\t<li>'Head'</li>\n",
       "\t<li>'Head'</li>\n",
       "\t<li>'Head'</li>\n",
       "\t<li>'Head'</li>\n",
       "\t<li>'Head'</li>\n",
       "\t<li>'Head'</li>\n",
       "\t<li>'Head'</li>\n",
       "\t<li>'Tail'</li>\n",
       "\t<li>'Head'</li>\n",
       "</ol>\n"
      ],
      "text/latex": [
       "\\begin{enumerate*}\n",
       "\\item 'Tail'\n",
       "\\item 'Tail'\n",
       "\\item 'Head'\n",
       "\\item 'Tail'\n",
       "\\item 'Head'\n",
       "\\item 'Head'\n",
       "\\item 'Tail'\n",
       "\\item 'Tail'\n",
       "\\item 'Tail'\n",
       "\\item 'Tail'\n",
       "\\item 'Tail'\n",
       "\\item 'Head'\n",
       "\\item 'Head'\n",
       "\\item 'Head'\n",
       "\\item 'Head'\n",
       "\\item 'Head'\n",
       "\\item 'Head'\n",
       "\\item 'Head'\n",
       "\\item 'Tail'\n",
       "\\item 'Head'\n",
       "\\end{enumerate*}\n"
      ],
      "text/markdown": [
       "1. 'Tail'\n",
       "2. 'Tail'\n",
       "3. 'Head'\n",
       "4. 'Tail'\n",
       "5. 'Head'\n",
       "6. 'Head'\n",
       "7. 'Tail'\n",
       "8. 'Tail'\n",
       "9. 'Tail'\n",
       "10. 'Tail'\n",
       "11. 'Tail'\n",
       "12. 'Head'\n",
       "13. 'Head'\n",
       "14. 'Head'\n",
       "15. 'Head'\n",
       "16. 'Head'\n",
       "17. 'Head'\n",
       "18. 'Head'\n",
       "19. 'Tail'\n",
       "20. 'Head'\n",
       "\n",
       "\n"
      ],
      "text/plain": [
       " [1] \"Tail\" \"Tail\" \"Head\" \"Tail\" \"Head\" \"Head\" \"Tail\" \"Tail\" \"Tail\" \"Tail\"\n",
       "[11] \"Tail\" \"Head\" \"Head\" \"Head\" \"Head\" \"Head\" \"Head\" \"Head\" \"Tail\" \"Head\""
      ]
     },
     "metadata": {},
     "output_type": "display_data"
    }
   ],
   "source": [
    "z"
   ]
  },
  {
   "cell_type": "markdown",
   "metadata": {},
   "source": [
    "Let us now, have more than $20$ experiments, and here, we are going to see a lot of structure that is natural on `R` (Also in other languages such as `python` because of their vectorized nature)."
   ]
  },
  {
   "cell_type": "markdown",
   "metadata": {},
   "source": [
    "Suppose that we want to repeat this $5000$ times, but we want to have this value saved on a variable so that it can be easily changed"
   ]
  },
  {
   "cell_type": "code",
   "execution_count": 20,
   "metadata": {
    "ExecuteTime": {
     "end_time": "2019-10-15T16:29:45.621196Z",
     "start_time": "2019-10-15T16:29:45.600Z"
    }
   },
   "outputs": [],
   "source": [
    "n=5000 #Number of repetitions"
   ]
  },
  {
   "cell_type": "markdown",
   "metadata": {},
   "source": [
    "Let us now, use the `sample` function, but $n$ times, and save the results on a variable. We don't have to save it, but as the output is very large, it is better to have it saved and visualize the results with a plot."
   ]
  },
  {
   "cell_type": "code",
   "execution_count": 21,
   "metadata": {
    "ExecuteTime": {
     "end_time": "2019-10-15T16:29:46.037106Z",
     "start_time": "2019-10-15T16:29:46.015Z"
    }
   },
   "outputs": [],
   "source": [
    "outc= sample(outspace,n,replace=T)"
   ]
  },
  {
   "cell_type": "markdown",
   "metadata": {},
   "source": [
    "Look that it is not necessary to have the complete word `TRUE`, with a `T` is enough. \n",
    "\n",
    "---\n"
   ]
  },
  {
   "cell_type": "markdown",
   "metadata": {
    "ExecuteTime": {
     "end_time": "2019-10-15T16:08:24.698580Z",
     "start_time": "2019-10-15T16:08:24.683Z"
    }
   },
   "source": [
    "Now, How can we count how many \"Heads\" we got?\n",
    "Look that we have saved on `outc` the output of the $5000$ repetitions of the experiment, let us print just $50$ of the outputs"
   ]
  },
  {
   "cell_type": "code",
   "execution_count": 22,
   "metadata": {
    "ExecuteTime": {
     "end_time": "2019-10-15T16:29:46.738707Z",
     "start_time": "2019-10-15T16:29:46.712Z"
    }
   },
   "outputs": [
    {
     "data": {
      "text/html": [
       "<ol class=list-inline>\n",
       "\t<li>'Tail'</li>\n",
       "\t<li>'Head'</li>\n",
       "\t<li>'Head'</li>\n",
       "\t<li>'Head'</li>\n",
       "\t<li>'Tail'</li>\n",
       "\t<li>'Tail'</li>\n",
       "\t<li>'Tail'</li>\n",
       "\t<li>'Head'</li>\n",
       "\t<li>'Head'</li>\n",
       "\t<li>'Tail'</li>\n",
       "\t<li>'Tail'</li>\n",
       "\t<li>'Head'</li>\n",
       "\t<li>'Tail'</li>\n",
       "\t<li>'Head'</li>\n",
       "\t<li>'Tail'</li>\n",
       "\t<li>'Head'</li>\n",
       "\t<li>'Head'</li>\n",
       "\t<li>'Tail'</li>\n",
       "\t<li>'Tail'</li>\n",
       "\t<li>'Tail'</li>\n",
       "\t<li>'Tail'</li>\n",
       "\t<li>'Head'</li>\n",
       "\t<li>'Head'</li>\n",
       "\t<li>'Tail'</li>\n",
       "\t<li>'Head'</li>\n",
       "\t<li>'Head'</li>\n",
       "\t<li>'Head'</li>\n",
       "\t<li>'Head'</li>\n",
       "\t<li>'Tail'</li>\n",
       "\t<li>'Tail'</li>\n",
       "\t<li>'Tail'</li>\n",
       "\t<li>'Tail'</li>\n",
       "\t<li>'Head'</li>\n",
       "\t<li>'Head'</li>\n",
       "\t<li>'Head'</li>\n",
       "\t<li>'Head'</li>\n",
       "\t<li>'Head'</li>\n",
       "\t<li>'Tail'</li>\n",
       "\t<li>'Tail'</li>\n",
       "\t<li>'Tail'</li>\n",
       "\t<li>'Head'</li>\n",
       "\t<li>'Head'</li>\n",
       "\t<li>'Tail'</li>\n",
       "\t<li>'Head'</li>\n",
       "\t<li>'Head'</li>\n",
       "\t<li>'Tail'</li>\n",
       "\t<li>'Tail'</li>\n",
       "\t<li>'Tail'</li>\n",
       "\t<li>'Tail'</li>\n",
       "\t<li>'Tail'</li>\n",
       "</ol>\n"
      ],
      "text/latex": [
       "\\begin{enumerate*}\n",
       "\\item 'Tail'\n",
       "\\item 'Head'\n",
       "\\item 'Head'\n",
       "\\item 'Head'\n",
       "\\item 'Tail'\n",
       "\\item 'Tail'\n",
       "\\item 'Tail'\n",
       "\\item 'Head'\n",
       "\\item 'Head'\n",
       "\\item 'Tail'\n",
       "\\item 'Tail'\n",
       "\\item 'Head'\n",
       "\\item 'Tail'\n",
       "\\item 'Head'\n",
       "\\item 'Tail'\n",
       "\\item 'Head'\n",
       "\\item 'Head'\n",
       "\\item 'Tail'\n",
       "\\item 'Tail'\n",
       "\\item 'Tail'\n",
       "\\item 'Tail'\n",
       "\\item 'Head'\n",
       "\\item 'Head'\n",
       "\\item 'Tail'\n",
       "\\item 'Head'\n",
       "\\item 'Head'\n",
       "\\item 'Head'\n",
       "\\item 'Head'\n",
       "\\item 'Tail'\n",
       "\\item 'Tail'\n",
       "\\item 'Tail'\n",
       "\\item 'Tail'\n",
       "\\item 'Head'\n",
       "\\item 'Head'\n",
       "\\item 'Head'\n",
       "\\item 'Head'\n",
       "\\item 'Head'\n",
       "\\item 'Tail'\n",
       "\\item 'Tail'\n",
       "\\item 'Tail'\n",
       "\\item 'Head'\n",
       "\\item 'Head'\n",
       "\\item 'Tail'\n",
       "\\item 'Head'\n",
       "\\item 'Head'\n",
       "\\item 'Tail'\n",
       "\\item 'Tail'\n",
       "\\item 'Tail'\n",
       "\\item 'Tail'\n",
       "\\item 'Tail'\n",
       "\\end{enumerate*}\n"
      ],
      "text/markdown": [
       "1. 'Tail'\n",
       "2. 'Head'\n",
       "3. 'Head'\n",
       "4. 'Head'\n",
       "5. 'Tail'\n",
       "6. 'Tail'\n",
       "7. 'Tail'\n",
       "8. 'Head'\n",
       "9. 'Head'\n",
       "10. 'Tail'\n",
       "11. 'Tail'\n",
       "12. 'Head'\n",
       "13. 'Tail'\n",
       "14. 'Head'\n",
       "15. 'Tail'\n",
       "16. 'Head'\n",
       "17. 'Head'\n",
       "18. 'Tail'\n",
       "19. 'Tail'\n",
       "20. 'Tail'\n",
       "21. 'Tail'\n",
       "22. 'Head'\n",
       "23. 'Head'\n",
       "24. 'Tail'\n",
       "25. 'Head'\n",
       "26. 'Head'\n",
       "27. 'Head'\n",
       "28. 'Head'\n",
       "29. 'Tail'\n",
       "30. 'Tail'\n",
       "31. 'Tail'\n",
       "32. 'Tail'\n",
       "33. 'Head'\n",
       "34. 'Head'\n",
       "35. 'Head'\n",
       "36. 'Head'\n",
       "37. 'Head'\n",
       "38. 'Tail'\n",
       "39. 'Tail'\n",
       "40. 'Tail'\n",
       "41. 'Head'\n",
       "42. 'Head'\n",
       "43. 'Tail'\n",
       "44. 'Head'\n",
       "45. 'Head'\n",
       "46. 'Tail'\n",
       "47. 'Tail'\n",
       "48. 'Tail'\n",
       "49. 'Tail'\n",
       "50. 'Tail'\n",
       "\n",
       "\n"
      ],
      "text/plain": [
       " [1] \"Tail\" \"Head\" \"Head\" \"Head\" \"Tail\" \"Tail\" \"Tail\" \"Head\" \"Head\" \"Tail\"\n",
       "[11] \"Tail\" \"Head\" \"Tail\" \"Head\" \"Tail\" \"Head\" \"Head\" \"Tail\" \"Tail\" \"Tail\"\n",
       "[21] \"Tail\" \"Head\" \"Head\" \"Tail\" \"Head\" \"Head\" \"Head\" \"Head\" \"Tail\" \"Tail\"\n",
       "[31] \"Tail\" \"Tail\" \"Head\" \"Head\" \"Head\" \"Head\" \"Head\" \"Tail\" \"Tail\" \"Tail\"\n",
       "[41] \"Head\" \"Head\" \"Tail\" \"Head\" \"Head\" \"Tail\" \"Tail\" \"Tail\" \"Tail\" \"Tail\""
      ]
     },
     "metadata": {},
     "output_type": "display_data"
    }
   ],
   "source": [
    "outc[0:50]"
   ]
  },
  {
   "cell_type": "markdown",
   "metadata": {
    "ExecuteTime": {
     "end_time": "2019-10-15T16:11:36.162194Z",
     "start_time": "2019-10-15T16:11:36.147Z"
    }
   },
   "source": [
    "It is like a _list_ of the outputs, and look, we can _ask_ `R` wich one of them have the value `\"Head\"`"
   ]
  },
  {
   "cell_type": "code",
   "execution_count": 23,
   "metadata": {
    "ExecuteTime": {
     "end_time": "2019-10-15T16:29:47.488306Z",
     "start_time": "2019-10-15T16:29:47.464Z"
    }
   },
   "outputs": [
    {
     "data": {
      "text/html": [
       "<ol class=list-inline>\n",
       "\t<li>FALSE</li>\n",
       "\t<li>TRUE</li>\n",
       "\t<li>TRUE</li>\n",
       "\t<li>TRUE</li>\n",
       "\t<li>FALSE</li>\n",
       "\t<li>FALSE</li>\n",
       "\t<li>FALSE</li>\n",
       "\t<li>TRUE</li>\n",
       "\t<li>TRUE</li>\n",
       "\t<li>FALSE</li>\n",
       "\t<li>FALSE</li>\n",
       "\t<li>TRUE</li>\n",
       "\t<li>FALSE</li>\n",
       "\t<li>TRUE</li>\n",
       "\t<li>FALSE</li>\n",
       "\t<li>TRUE</li>\n",
       "\t<li>TRUE</li>\n",
       "\t<li>FALSE</li>\n",
       "\t<li>FALSE</li>\n",
       "\t<li>FALSE</li>\n",
       "\t<li>FALSE</li>\n",
       "\t<li>TRUE</li>\n",
       "\t<li>TRUE</li>\n",
       "\t<li>FALSE</li>\n",
       "\t<li>TRUE</li>\n",
       "\t<li>TRUE</li>\n",
       "\t<li>TRUE</li>\n",
       "\t<li>TRUE</li>\n",
       "\t<li>FALSE</li>\n",
       "\t<li>FALSE</li>\n",
       "\t<li>FALSE</li>\n",
       "\t<li>FALSE</li>\n",
       "\t<li>TRUE</li>\n",
       "\t<li>TRUE</li>\n",
       "\t<li>TRUE</li>\n",
       "\t<li>TRUE</li>\n",
       "\t<li>TRUE</li>\n",
       "\t<li>FALSE</li>\n",
       "\t<li>FALSE</li>\n",
       "\t<li>FALSE</li>\n",
       "\t<li>TRUE</li>\n",
       "\t<li>TRUE</li>\n",
       "\t<li>FALSE</li>\n",
       "\t<li>TRUE</li>\n",
       "\t<li>TRUE</li>\n",
       "\t<li>FALSE</li>\n",
       "\t<li>FALSE</li>\n",
       "\t<li>FALSE</li>\n",
       "\t<li>FALSE</li>\n",
       "\t<li>FALSE</li>\n",
       "</ol>\n"
      ],
      "text/latex": [
       "\\begin{enumerate*}\n",
       "\\item FALSE\n",
       "\\item TRUE\n",
       "\\item TRUE\n",
       "\\item TRUE\n",
       "\\item FALSE\n",
       "\\item FALSE\n",
       "\\item FALSE\n",
       "\\item TRUE\n",
       "\\item TRUE\n",
       "\\item FALSE\n",
       "\\item FALSE\n",
       "\\item TRUE\n",
       "\\item FALSE\n",
       "\\item TRUE\n",
       "\\item FALSE\n",
       "\\item TRUE\n",
       "\\item TRUE\n",
       "\\item FALSE\n",
       "\\item FALSE\n",
       "\\item FALSE\n",
       "\\item FALSE\n",
       "\\item TRUE\n",
       "\\item TRUE\n",
       "\\item FALSE\n",
       "\\item TRUE\n",
       "\\item TRUE\n",
       "\\item TRUE\n",
       "\\item TRUE\n",
       "\\item FALSE\n",
       "\\item FALSE\n",
       "\\item FALSE\n",
       "\\item FALSE\n",
       "\\item TRUE\n",
       "\\item TRUE\n",
       "\\item TRUE\n",
       "\\item TRUE\n",
       "\\item TRUE\n",
       "\\item FALSE\n",
       "\\item FALSE\n",
       "\\item FALSE\n",
       "\\item TRUE\n",
       "\\item TRUE\n",
       "\\item FALSE\n",
       "\\item TRUE\n",
       "\\item TRUE\n",
       "\\item FALSE\n",
       "\\item FALSE\n",
       "\\item FALSE\n",
       "\\item FALSE\n",
       "\\item FALSE\n",
       "\\end{enumerate*}\n"
      ],
      "text/markdown": [
       "1. FALSE\n",
       "2. TRUE\n",
       "3. TRUE\n",
       "4. TRUE\n",
       "5. FALSE\n",
       "6. FALSE\n",
       "7. FALSE\n",
       "8. TRUE\n",
       "9. TRUE\n",
       "10. FALSE\n",
       "11. FALSE\n",
       "12. TRUE\n",
       "13. FALSE\n",
       "14. TRUE\n",
       "15. FALSE\n",
       "16. TRUE\n",
       "17. TRUE\n",
       "18. FALSE\n",
       "19. FALSE\n",
       "20. FALSE\n",
       "21. FALSE\n",
       "22. TRUE\n",
       "23. TRUE\n",
       "24. FALSE\n",
       "25. TRUE\n",
       "26. TRUE\n",
       "27. TRUE\n",
       "28. TRUE\n",
       "29. FALSE\n",
       "30. FALSE\n",
       "31. FALSE\n",
       "32. FALSE\n",
       "33. TRUE\n",
       "34. TRUE\n",
       "35. TRUE\n",
       "36. TRUE\n",
       "37. TRUE\n",
       "38. FALSE\n",
       "39. FALSE\n",
       "40. FALSE\n",
       "41. TRUE\n",
       "42. TRUE\n",
       "43. FALSE\n",
       "44. TRUE\n",
       "45. TRUE\n",
       "46. FALSE\n",
       "47. FALSE\n",
       "48. FALSE\n",
       "49. FALSE\n",
       "50. FALSE\n",
       "\n",
       "\n"
      ],
      "text/plain": [
       " [1] FALSE  TRUE  TRUE  TRUE FALSE FALSE FALSE  TRUE  TRUE FALSE FALSE  TRUE\n",
       "[13] FALSE  TRUE FALSE  TRUE  TRUE FALSE FALSE FALSE FALSE  TRUE  TRUE FALSE\n",
       "[25]  TRUE  TRUE  TRUE  TRUE FALSE FALSE FALSE FALSE  TRUE  TRUE  TRUE  TRUE\n",
       "[37]  TRUE FALSE FALSE FALSE  TRUE  TRUE FALSE  TRUE  TRUE FALSE FALSE FALSE\n",
       "[49] FALSE FALSE"
      ]
     },
     "metadata": {},
     "output_type": "display_data"
    }
   ],
   "source": [
    "outc[1:50]==\"Head\""
   ]
  },
  {
   "cell_type": "markdown",
   "metadata": {},
   "source": [
    "It is very important that we have used the double `==`, if we use one is an asignation but if we use two instead we get comparison.\n",
    "\n",
    "It is commonly understood that the `TRUE` values are taken as $1$, and the `FALSE` values as $0$. (It is important that we HAVE to use the uppercase words true or false). So we can sum how many `TRUE` values we have until a certain component of the list, this is done with the `cumsum` function  "
   ]
  },
  {
   "cell_type": "code",
   "execution_count": 24,
   "metadata": {
    "ExecuteTime": {
     "end_time": "2019-10-15T16:29:48.197409Z",
     "start_time": "2019-10-15T16:29:48.175Z"
    }
   },
   "outputs": [],
   "source": [
    "z=cumsum(outc==\"Head\")"
   ]
  },
  {
   "cell_type": "markdown",
   "metadata": {},
   "source": [
    "For example, supose that you have the following list\n",
    "```python \n",
    "[1,3,5,2,1]\n",
    "```\n",
    "The `cumsum` function should simply return something as\n",
    "```python \n",
    "[1,4,9,11,12]\n",
    "```\n",
    "in other words, sum the values of the precedent cells."
   ]
  },
  {
   "cell_type": "code",
   "execution_count": 25,
   "metadata": {
    "ExecuteTime": {
     "end_time": "2019-10-15T16:29:50.345500Z",
     "start_time": "2019-10-15T16:29:50.320Z"
    }
   },
   "outputs": [
    {
     "data": {
      "text/html": [
       "<ol class=list-inline>\n",
       "\t<li>0</li>\n",
       "\t<li>1</li>\n",
       "\t<li>2</li>\n",
       "\t<li>3</li>\n",
       "\t<li>3</li>\n",
       "\t<li>3</li>\n",
       "\t<li>3</li>\n",
       "\t<li>4</li>\n",
       "\t<li>5</li>\n",
       "\t<li>5</li>\n",
       "\t<li>5</li>\n",
       "\t<li>6</li>\n",
       "\t<li>6</li>\n",
       "\t<li>7</li>\n",
       "\t<li>7</li>\n",
       "\t<li>8</li>\n",
       "\t<li>9</li>\n",
       "\t<li>9</li>\n",
       "\t<li>9</li>\n",
       "\t<li>9</li>\n",
       "\t<li>9</li>\n",
       "\t<li>10</li>\n",
       "\t<li>11</li>\n",
       "\t<li>11</li>\n",
       "\t<li>12</li>\n",
       "\t<li>13</li>\n",
       "\t<li>14</li>\n",
       "\t<li>15</li>\n",
       "\t<li>15</li>\n",
       "\t<li>15</li>\n",
       "\t<li>15</li>\n",
       "\t<li>15</li>\n",
       "\t<li>16</li>\n",
       "\t<li>17</li>\n",
       "\t<li>18</li>\n",
       "\t<li>19</li>\n",
       "\t<li>20</li>\n",
       "\t<li>20</li>\n",
       "\t<li>20</li>\n",
       "\t<li>20</li>\n",
       "\t<li>21</li>\n",
       "\t<li>22</li>\n",
       "\t<li>22</li>\n",
       "\t<li>23</li>\n",
       "\t<li>24</li>\n",
       "\t<li>24</li>\n",
       "\t<li>24</li>\n",
       "\t<li>24</li>\n",
       "\t<li>24</li>\n",
       "\t<li>24</li>\n",
       "</ol>\n"
      ],
      "text/latex": [
       "\\begin{enumerate*}\n",
       "\\item 0\n",
       "\\item 1\n",
       "\\item 2\n",
       "\\item 3\n",
       "\\item 3\n",
       "\\item 3\n",
       "\\item 3\n",
       "\\item 4\n",
       "\\item 5\n",
       "\\item 5\n",
       "\\item 5\n",
       "\\item 6\n",
       "\\item 6\n",
       "\\item 7\n",
       "\\item 7\n",
       "\\item 8\n",
       "\\item 9\n",
       "\\item 9\n",
       "\\item 9\n",
       "\\item 9\n",
       "\\item 9\n",
       "\\item 10\n",
       "\\item 11\n",
       "\\item 11\n",
       "\\item 12\n",
       "\\item 13\n",
       "\\item 14\n",
       "\\item 15\n",
       "\\item 15\n",
       "\\item 15\n",
       "\\item 15\n",
       "\\item 15\n",
       "\\item 16\n",
       "\\item 17\n",
       "\\item 18\n",
       "\\item 19\n",
       "\\item 20\n",
       "\\item 20\n",
       "\\item 20\n",
       "\\item 20\n",
       "\\item 21\n",
       "\\item 22\n",
       "\\item 22\n",
       "\\item 23\n",
       "\\item 24\n",
       "\\item 24\n",
       "\\item 24\n",
       "\\item 24\n",
       "\\item 24\n",
       "\\item 24\n",
       "\\end{enumerate*}\n"
      ],
      "text/markdown": [
       "1. 0\n",
       "2. 1\n",
       "3. 2\n",
       "4. 3\n",
       "5. 3\n",
       "6. 3\n",
       "7. 3\n",
       "8. 4\n",
       "9. 5\n",
       "10. 5\n",
       "11. 5\n",
       "12. 6\n",
       "13. 6\n",
       "14. 7\n",
       "15. 7\n",
       "16. 8\n",
       "17. 9\n",
       "18. 9\n",
       "19. 9\n",
       "20. 9\n",
       "21. 9\n",
       "22. 10\n",
       "23. 11\n",
       "24. 11\n",
       "25. 12\n",
       "26. 13\n",
       "27. 14\n",
       "28. 15\n",
       "29. 15\n",
       "30. 15\n",
       "31. 15\n",
       "32. 15\n",
       "33. 16\n",
       "34. 17\n",
       "35. 18\n",
       "36. 19\n",
       "37. 20\n",
       "38. 20\n",
       "39. 20\n",
       "40. 20\n",
       "41. 21\n",
       "42. 22\n",
       "43. 22\n",
       "44. 23\n",
       "45. 24\n",
       "46. 24\n",
       "47. 24\n",
       "48. 24\n",
       "49. 24\n",
       "50. 24\n",
       "\n",
       "\n"
      ],
      "text/plain": [
       " [1]  0  1  2  3  3  3  3  4  5  5  5  6  6  7  7  8  9  9  9  9  9 10 11 11 12\n",
       "[26] 13 14 15 15 15 15 15 16 17 18 19 20 20 20 20 21 22 22 23 24 24 24 24 24 24"
      ]
     },
     "metadata": {},
     "output_type": "display_data"
    }
   ],
   "source": [
    "z[0:50]"
   ]
  },
  {
   "cell_type": "markdown",
   "metadata": {},
   "source": [
    "As we do need to know how many times we got _Heads_ compared with the number of throws, we divide by the position on the list, the function `seq` will be very useful in all our codes!, so it is convenient to look at it asap. Again, try `?seq`.\n",
    "\n",
    "It basically creates a list of numbers.\n",
    "\n",
    "The parameters are the initial and final points, but the difference between consecutive valies can be also given."
   ]
  },
  {
   "cell_type": "code",
   "execution_count": 30,
   "metadata": {
    "ExecuteTime": {
     "end_time": "2019-10-15T16:34:22.937348Z",
     "start_time": "2019-10-15T16:34:22.912Z"
    }
   },
   "outputs": [
    {
     "data": {
      "text/html": [
       "<ol class=list-inline>\n",
       "\t<li>1</li>\n",
       "\t<li>2</li>\n",
       "\t<li>3</li>\n",
       "\t<li>4</li>\n",
       "\t<li>5</li>\n",
       "\t<li>6</li>\n",
       "\t<li>7</li>\n",
       "\t<li>8</li>\n",
       "\t<li>9</li>\n",
       "\t<li>10</li>\n",
       "\t<li>11</li>\n",
       "\t<li>12</li>\n",
       "\t<li>13</li>\n",
       "\t<li>14</li>\n",
       "\t<li>15</li>\n",
       "\t<li>16</li>\n",
       "\t<li>17</li>\n",
       "\t<li>18</li>\n",
       "\t<li>19</li>\n",
       "\t<li>20</li>\n",
       "</ol>\n"
      ],
      "text/latex": [
       "\\begin{enumerate*}\n",
       "\\item 1\n",
       "\\item 2\n",
       "\\item 3\n",
       "\\item 4\n",
       "\\item 5\n",
       "\\item 6\n",
       "\\item 7\n",
       "\\item 8\n",
       "\\item 9\n",
       "\\item 10\n",
       "\\item 11\n",
       "\\item 12\n",
       "\\item 13\n",
       "\\item 14\n",
       "\\item 15\n",
       "\\item 16\n",
       "\\item 17\n",
       "\\item 18\n",
       "\\item 19\n",
       "\\item 20\n",
       "\\end{enumerate*}\n"
      ],
      "text/markdown": [
       "1. 1\n",
       "2. 2\n",
       "3. 3\n",
       "4. 4\n",
       "5. 5\n",
       "6. 6\n",
       "7. 7\n",
       "8. 8\n",
       "9. 9\n",
       "10. 10\n",
       "11. 11\n",
       "12. 12\n",
       "13. 13\n",
       "14. 14\n",
       "15. 15\n",
       "16. 16\n",
       "17. 17\n",
       "18. 18\n",
       "19. 19\n",
       "20. 20\n",
       "\n",
       "\n"
      ],
      "text/plain": [
       " [1]  1  2  3  4  5  6  7  8  9 10 11 12 13 14 15 16 17 18 19 20"
      ]
     },
     "metadata": {},
     "output_type": "display_data"
    }
   ],
   "source": [
    "seq(1,20)"
   ]
  },
  {
   "cell_type": "code",
   "execution_count": 32,
   "metadata": {
    "ExecuteTime": {
     "end_time": "2019-10-15T16:34:32.019128Z",
     "start_time": "2019-10-15T16:34:31.992Z"
    }
   },
   "outputs": [
    {
     "data": {
      "text/html": [
       "<ol class=list-inline>\n",
       "\t<li>1</li>\n",
       "\t<li>1.8</li>\n",
       "\t<li>2.6</li>\n",
       "\t<li>3.4</li>\n",
       "\t<li>4.2</li>\n",
       "\t<li>5</li>\n",
       "\t<li>5.8</li>\n",
       "\t<li>6.6</li>\n",
       "\t<li>7.4</li>\n",
       "\t<li>8.2</li>\n",
       "\t<li>9</li>\n",
       "\t<li>9.8</li>\n",
       "\t<li>10.6</li>\n",
       "\t<li>11.4</li>\n",
       "\t<li>12.2</li>\n",
       "\t<li>13</li>\n",
       "\t<li>13.8</li>\n",
       "\t<li>14.6</li>\n",
       "\t<li>15.4</li>\n",
       "\t<li>16.2</li>\n",
       "\t<li>17</li>\n",
       "\t<li>17.8</li>\n",
       "\t<li>18.6</li>\n",
       "\t<li>19.4</li>\n",
       "</ol>\n"
      ],
      "text/latex": [
       "\\begin{enumerate*}\n",
       "\\item 1\n",
       "\\item 1.8\n",
       "\\item 2.6\n",
       "\\item 3.4\n",
       "\\item 4.2\n",
       "\\item 5\n",
       "\\item 5.8\n",
       "\\item 6.6\n",
       "\\item 7.4\n",
       "\\item 8.2\n",
       "\\item 9\n",
       "\\item 9.8\n",
       "\\item 10.6\n",
       "\\item 11.4\n",
       "\\item 12.2\n",
       "\\item 13\n",
       "\\item 13.8\n",
       "\\item 14.6\n",
       "\\item 15.4\n",
       "\\item 16.2\n",
       "\\item 17\n",
       "\\item 17.8\n",
       "\\item 18.6\n",
       "\\item 19.4\n",
       "\\end{enumerate*}\n"
      ],
      "text/markdown": [
       "1. 1\n",
       "2. 1.8\n",
       "3. 2.6\n",
       "4. 3.4\n",
       "5. 4.2\n",
       "6. 5\n",
       "7. 5.8\n",
       "8. 6.6\n",
       "9. 7.4\n",
       "10. 8.2\n",
       "11. 9\n",
       "12. 9.8\n",
       "13. 10.6\n",
       "14. 11.4\n",
       "15. 12.2\n",
       "16. 13\n",
       "17. 13.8\n",
       "18. 14.6\n",
       "19. 15.4\n",
       "20. 16.2\n",
       "21. 17\n",
       "22. 17.8\n",
       "23. 18.6\n",
       "24. 19.4\n",
       "\n",
       "\n"
      ],
      "text/plain": [
       " [1]  1.0  1.8  2.6  3.4  4.2  5.0  5.8  6.6  7.4  8.2  9.0  9.8 10.6 11.4 12.2\n",
       "[16] 13.0 13.8 14.6 15.4 16.2 17.0 17.8 18.6 19.4"
      ]
     },
     "metadata": {},
     "output_type": "display_data"
    }
   ],
   "source": [
    "seq(1,20,0.8)"
   ]
  },
  {
   "cell_type": "markdown",
   "metadata": {},
   "source": [
    "So, let us save the proportion of _heads_ on a new list"
   ]
  },
  {
   "cell_type": "code",
   "execution_count": 33,
   "metadata": {
    "ExecuteTime": {
     "end_time": "2019-10-15T16:34:54.555433Z",
     "start_time": "2019-10-15T16:34:54.536Z"
    }
   },
   "outputs": [],
   "source": [
    "z=cumsum(outc==\"Head\")/seq(1,n)"
   ]
  },
  {
   "cell_type": "code",
   "execution_count": 35,
   "metadata": {
    "ExecuteTime": {
     "end_time": "2019-10-15T16:35:02.543459Z",
     "start_time": "2019-10-15T16:35:02.521Z"
    }
   },
   "outputs": [
    {
     "data": {
      "text/html": [
       "<ol class=list-inline>\n",
       "\t<li>0</li>\n",
       "\t<li>0.5</li>\n",
       "\t<li>0.666666666666667</li>\n",
       "\t<li>0.75</li>\n",
       "\t<li>0.6</li>\n",
       "\t<li>0.5</li>\n",
       "\t<li>0.428571428571429</li>\n",
       "\t<li>0.5</li>\n",
       "\t<li>0.555555555555556</li>\n",
       "\t<li>0.5</li>\n",
       "\t<li>0.454545454545455</li>\n",
       "\t<li>0.5</li>\n",
       "\t<li>0.461538461538462</li>\n",
       "\t<li>0.5</li>\n",
       "\t<li>0.466666666666667</li>\n",
       "\t<li>0.5</li>\n",
       "\t<li>0.529411764705882</li>\n",
       "\t<li>0.5</li>\n",
       "\t<li>0.473684210526316</li>\n",
       "\t<li>0.45</li>\n",
       "\t<li>0.428571428571429</li>\n",
       "\t<li>0.454545454545455</li>\n",
       "\t<li>0.478260869565217</li>\n",
       "\t<li>0.458333333333333</li>\n",
       "\t<li>0.48</li>\n",
       "\t<li>0.5</li>\n",
       "\t<li>0.518518518518518</li>\n",
       "\t<li>0.535714285714286</li>\n",
       "\t<li>0.517241379310345</li>\n",
       "\t<li>0.5</li>\n",
       "\t<li>0.483870967741935</li>\n",
       "\t<li>0.46875</li>\n",
       "\t<li>0.484848484848485</li>\n",
       "\t<li>0.5</li>\n",
       "\t<li>0.514285714285714</li>\n",
       "\t<li>0.527777777777778</li>\n",
       "\t<li>0.540540540540541</li>\n",
       "\t<li>0.526315789473684</li>\n",
       "\t<li>0.512820512820513</li>\n",
       "\t<li>0.5</li>\n",
       "\t<li>0.51219512195122</li>\n",
       "\t<li>0.523809523809524</li>\n",
       "\t<li>0.511627906976744</li>\n",
       "\t<li>0.522727272727273</li>\n",
       "\t<li>0.533333333333333</li>\n",
       "\t<li>0.521739130434783</li>\n",
       "\t<li>0.51063829787234</li>\n",
       "\t<li>0.5</li>\n",
       "\t<li>0.489795918367347</li>\n",
       "\t<li>0.48</li>\n",
       "</ol>\n"
      ],
      "text/latex": [
       "\\begin{enumerate*}\n",
       "\\item 0\n",
       "\\item 0.5\n",
       "\\item 0.666666666666667\n",
       "\\item 0.75\n",
       "\\item 0.6\n",
       "\\item 0.5\n",
       "\\item 0.428571428571429\n",
       "\\item 0.5\n",
       "\\item 0.555555555555556\n",
       "\\item 0.5\n",
       "\\item 0.454545454545455\n",
       "\\item 0.5\n",
       "\\item 0.461538461538462\n",
       "\\item 0.5\n",
       "\\item 0.466666666666667\n",
       "\\item 0.5\n",
       "\\item 0.529411764705882\n",
       "\\item 0.5\n",
       "\\item 0.473684210526316\n",
       "\\item 0.45\n",
       "\\item 0.428571428571429\n",
       "\\item 0.454545454545455\n",
       "\\item 0.478260869565217\n",
       "\\item 0.458333333333333\n",
       "\\item 0.48\n",
       "\\item 0.5\n",
       "\\item 0.518518518518518\n",
       "\\item 0.535714285714286\n",
       "\\item 0.517241379310345\n",
       "\\item 0.5\n",
       "\\item 0.483870967741935\n",
       "\\item 0.46875\n",
       "\\item 0.484848484848485\n",
       "\\item 0.5\n",
       "\\item 0.514285714285714\n",
       "\\item 0.527777777777778\n",
       "\\item 0.540540540540541\n",
       "\\item 0.526315789473684\n",
       "\\item 0.512820512820513\n",
       "\\item 0.5\n",
       "\\item 0.51219512195122\n",
       "\\item 0.523809523809524\n",
       "\\item 0.511627906976744\n",
       "\\item 0.522727272727273\n",
       "\\item 0.533333333333333\n",
       "\\item 0.521739130434783\n",
       "\\item 0.51063829787234\n",
       "\\item 0.5\n",
       "\\item 0.489795918367347\n",
       "\\item 0.48\n",
       "\\end{enumerate*}\n"
      ],
      "text/markdown": [
       "1. 0\n",
       "2. 0.5\n",
       "3. 0.666666666666667\n",
       "4. 0.75\n",
       "5. 0.6\n",
       "6. 0.5\n",
       "7. 0.428571428571429\n",
       "8. 0.5\n",
       "9. 0.555555555555556\n",
       "10. 0.5\n",
       "11. 0.454545454545455\n",
       "12. 0.5\n",
       "13. 0.461538461538462\n",
       "14. 0.5\n",
       "15. 0.466666666666667\n",
       "16. 0.5\n",
       "17. 0.529411764705882\n",
       "18. 0.5\n",
       "19. 0.473684210526316\n",
       "20. 0.45\n",
       "21. 0.428571428571429\n",
       "22. 0.454545454545455\n",
       "23. 0.478260869565217\n",
       "24. 0.458333333333333\n",
       "25. 0.48\n",
       "26. 0.5\n",
       "27. 0.518518518518518\n",
       "28. 0.535714285714286\n",
       "29. 0.517241379310345\n",
       "30. 0.5\n",
       "31. 0.483870967741935\n",
       "32. 0.46875\n",
       "33. 0.484848484848485\n",
       "34. 0.5\n",
       "35. 0.514285714285714\n",
       "36. 0.527777777777778\n",
       "37. 0.540540540540541\n",
       "38. 0.526315789473684\n",
       "39. 0.512820512820513\n",
       "40. 0.5\n",
       "41. 0.51219512195122\n",
       "42. 0.523809523809524\n",
       "43. 0.511627906976744\n",
       "44. 0.522727272727273\n",
       "45. 0.533333333333333\n",
       "46. 0.521739130434783\n",
       "47. 0.51063829787234\n",
       "48. 0.5\n",
       "49. 0.489795918367347\n",
       "50. 0.48\n",
       "\n",
       "\n"
      ],
      "text/plain": [
       " [1] 0.0000000 0.5000000 0.6666667 0.7500000 0.6000000 0.5000000 0.4285714\n",
       " [8] 0.5000000 0.5555556 0.5000000 0.4545455 0.5000000 0.4615385 0.5000000\n",
       "[15] 0.4666667 0.5000000 0.5294118 0.5000000 0.4736842 0.4500000 0.4285714\n",
       "[22] 0.4545455 0.4782609 0.4583333 0.4800000 0.5000000 0.5185185 0.5357143\n",
       "[29] 0.5172414 0.5000000 0.4838710 0.4687500 0.4848485 0.5000000 0.5142857\n",
       "[36] 0.5277778 0.5405405 0.5263158 0.5128205 0.5000000 0.5121951 0.5238095\n",
       "[43] 0.5116279 0.5227273 0.5333333 0.5217391 0.5106383 0.5000000 0.4897959\n",
       "[50] 0.4800000"
      ]
     },
     "metadata": {},
     "output_type": "display_data"
    }
   ],
   "source": [
    "z[0:50]"
   ]
  },
  {
   "cell_type": "markdown",
   "metadata": {},
   "source": [
    "And let us plot this"
   ]
  },
  {
   "cell_type": "code",
   "execution_count": 36,
   "metadata": {
    "ExecuteTime": {
     "end_time": "2019-10-15T16:35:17.853074Z",
     "start_time": "2019-10-15T16:35:17.544Z"
    }
   },
   "outputs": [
    {
     "data": {
      "image/png": "[encoded data removed]",
      "text/plain": [
       "plot without title"
      ]
     },
     "metadata": {},
     "output_type": "display_data"
    }
   ],
   "source": [
    "plot(z)"
   ]
  },
  {
   "cell_type": "markdown",
   "metadata": {},
   "source": [
    "Look that it looks that with the time, it gets closer to $0.5$, so let us put a line to visualize better,"
   ]
  },
  {
   "cell_type": "code",
   "execution_count": 38,
   "metadata": {
    "ExecuteTime": {
     "end_time": "2019-10-15T16:36:31.078543Z",
     "start_time": "2019-10-15T16:36:30.769Z"
    }
   },
   "outputs": [
    {
     "data": {
      "image/png": "[encoded data removed]",
      "text/plain": [
       "plot without title"
      ]
     },
     "metadata": {},
     "output_type": "display_data"
    }
   ],
   "source": [
    "plot(z)\n",
    "abline(h=0.5, col=\"grey\")"
   ]
  },
  {
   "cell_type": "markdown",
   "metadata": {},
   "source": [
    "or we can change some values to make our plot to look better,"
   ]
  },
  {
   "cell_type": "code",
   "execution_count": 39,
   "metadata": {
    "ExecuteTime": {
     "end_time": "2019-10-15T16:48:23.351879Z",
     "start_time": "2019-10-15T16:48:23.245Z"
    }
   },
   "outputs": [
    {
     "data": {
      "image/png": "[encoded data removed]",
      "text/plain": [
       "plot without title"
      ]
     },
     "metadata": {},
     "output_type": "display_data"
    }
   ],
   "source": [
    "plot(z, xlab=\"Flips\", ylab=\"Frequency of Heads\",type=\"l\")\n",
    "abline(h=0.5, col=\"grey\")"
   ]
  },
  {
   "cell_type": "code",
   "execution_count": 40,
   "metadata": {
    "ExecuteTime": {
     "end_time": "2019-10-15T16:48:45.207064Z",
     "start_time": "2019-10-15T16:48:45.182Z"
    }
   },
   "outputs": [],
   "source": [
    "z1=cumsum(outc==\"Head\")/seq(1,n)\n",
    "z2=cumsum(outc==\"Tail\")/seq(1,n)"
   ]
  },
  {
   "cell_type": "code",
   "execution_count": 56,
   "metadata": {
    "ExecuteTime": {
     "end_time": "2019-10-15T16:52:19.206232Z",
     "start_time": "2019-10-15T16:52:19.072Z"
    }
   },
   "outputs": [
    {
     "data": {
      "image/png": "[encoded data removed]",
      "text/plain": [
       "plot without title"
      ]
     },
     "metadata": {},
     "output_type": "display_data"
    }
   ],
   "source": [
    "plot(z1, col=\"blue\", xlab=\"Flips\", ylab=\"Frequency\",type=\"l\")\n",
    "lines(z2,col=\"red\")\n",
    "abline(h=0.5, col=\"grey\")\n",
    "legend(3000, 0.2, legend=c(\"Tails\", \"Heads\"),\n",
    "       col=c(\"red\", \"blue\"), lty=1:1)"
   ]
  }
 ],
 "metadata": {
  "kernelspec": {
   "display_name": "R",
   "language": "R",
   "name": "ir"
  },
  "language_info": {
   "codemirror_mode": "r",
   "file_extension": ".r",
   "mimetype": "text/x-r-source",
   "name": "R",
   "pygments_lexer": "r",
   "version": "3.6.1"
  },
  "latex_envs": {
   "LaTeX_envs_menu_present": true,
   "autoclose": true,
   "autocomplete": true,
   "bibliofile": "biblio.bib",
   "cite_by": "apalike",
   "current_citInitial": 1,
   "eqLabelWithNumbers": true,
   "eqNumInitial": 1,
   "hotkeys": {
    "equation": "Ctrl-E",
    "itemize": "Ctrl-I"
   },
   "labels_anchors": false,
   "latex_user_defs": false,
   "report_style_numbering": true,
   "user_envs_cfg": false
  },
  "varInspector": {
   "cols": {
    "lenName": 16,
    "lenType": 16,
    "lenVar": 40
   },
   "kernels_config": {
    "python": {
     "delete_cmd_postfix": "",
     "delete_cmd_prefix": "del ",
     "library": "var_list.py",
     "varRefreshCmd": "print(var_dic_list())"
    },
    "r": {
     "delete_cmd_postfix": ") ",
     "delete_cmd_prefix": "rm(",
     "library": "var_list.r",
     "varRefreshCmd": "cat(var_dic_list()) "
    }
   },
   "types_to_exclude": [
    "module",
    "function",
    "builtin_function_or_method",
    "instance",
    "_Feature"
   ],
   "window_display": false
  }
 },
 "nbformat": 4,
 "nbformat_minor": 2
}
