{
 "cells": [
  {
   "cell_type": "markdown",
   "metadata": {
    "ExecuteTime": {
     "end_time": "2019-10-16T16:31:32.902698Z",
     "start_time": "2019-10-16T16:31:32.882Z"
    }
   },
   "source": [
    "To see more of these notebooks [link](https://jmsevillam.github.io/R_basics/)\n",
    "#  Exampe 2: Two dices\n",
    "\n",
    "---\n",
    "\n",
    "Suppose you have two a fair dice, it is the same to throw a dice twice than throw two dices once, so we are going to define just a sequence of points which will correspond to a dice"
   ]
  },
  {
   "cell_type": "code",
   "execution_count": 1,
   "metadata": {
    "ExecuteTime": {
     "end_time": "2019-10-17T14:01:53.007488Z",
     "start_time": "2019-10-17T14:01:52.978Z"
    }
   },
   "outputs": [
    {
     "data": {
      "text/html": [
       "<ol class=list-inline>\n",
       "\t<li>1</li>\n",
       "\t<li>2</li>\n",
       "\t<li>3</li>\n",
       "\t<li>4</li>\n",
       "\t<li>5</li>\n",
       "\t<li>6</li>\n",
       "</ol>\n"
      ],
      "text/latex": [
       "\\begin{enumerate*}\n",
       "\\item 1\n",
       "\\item 2\n",
       "\\item 3\n",
       "\\item 4\n",
       "\\item 5\n",
       "\\item 6\n",
       "\\end{enumerate*}\n"
      ],
      "text/markdown": [
       "1. 1\n",
       "2. 2\n",
       "3. 3\n",
       "4. 4\n",
       "5. 5\n",
       "6. 6\n",
       "\n",
       "\n"
      ],
      "text/plain": [
       "[1] 1 2 3 4 5 6"
      ]
     },
     "metadata": {},
     "output_type": "display_data"
    }
   ],
   "source": [
    "dice=seq(1,6)\n",
    "dice"
   ]
  },
  {
   "cell_type": "markdown",
   "metadata": {},
   "source": [
    "We have the six options, the results of throwing the dice, can be simulated with the function `sample`"
   ]
  },
  {
   "cell_type": "code",
   "execution_count": 3,
   "metadata": {
    "ExecuteTime": {
     "end_time": "2019-10-17T14:02:52.087809Z",
     "start_time": "2019-10-17T14:02:52.060Z"
    }
   },
   "outputs": [],
   "source": [
    "n_rep=10000\n",
    "test1=sample(dice,n_rep,replace=T)"
   ]
  },
  {
   "cell_type": "markdown",
   "metadata": {},
   "source": [
    "If we want to see the first 50 results"
   ]
  },
  {
   "cell_type": "code",
   "execution_count": 4,
   "metadata": {
    "ExecuteTime": {
     "end_time": "2019-10-17T14:03:05.376140Z",
     "start_time": "2019-10-17T14:03:05.347Z"
    }
   },
   "outputs": [
    {
     "data": {
      "text/html": [
       "<ol class=list-inline>\n",
       "\t<li>3</li>\n",
       "\t<li>3</li>\n",
       "\t<li>3</li>\n",
       "\t<li>2</li>\n",
       "\t<li>1</li>\n",
       "\t<li>1</li>\n",
       "\t<li>2</li>\n",
       "\t<li>4</li>\n",
       "\t<li>6</li>\n",
       "\t<li>6</li>\n",
       "\t<li>3</li>\n",
       "\t<li>5</li>\n",
       "\t<li>6</li>\n",
       "\t<li>4</li>\n",
       "\t<li>6</li>\n",
       "\t<li>5</li>\n",
       "\t<li>4</li>\n",
       "\t<li>1</li>\n",
       "\t<li>1</li>\n",
       "\t<li>5</li>\n",
       "\t<li>1</li>\n",
       "\t<li>5</li>\n",
       "\t<li>4</li>\n",
       "\t<li>1</li>\n",
       "\t<li>2</li>\n",
       "\t<li>1</li>\n",
       "\t<li>3</li>\n",
       "\t<li>4</li>\n",
       "\t<li>6</li>\n",
       "\t<li>2</li>\n",
       "\t<li>4</li>\n",
       "\t<li>1</li>\n",
       "\t<li>4</li>\n",
       "\t<li>1</li>\n",
       "\t<li>4</li>\n",
       "\t<li>2</li>\n",
       "\t<li>3</li>\n",
       "\t<li>3</li>\n",
       "\t<li>4</li>\n",
       "\t<li>6</li>\n",
       "\t<li>5</li>\n",
       "\t<li>5</li>\n",
       "\t<li>5</li>\n",
       "\t<li>1</li>\n",
       "\t<li>5</li>\n",
       "\t<li>6</li>\n",
       "\t<li>4</li>\n",
       "\t<li>5</li>\n",
       "\t<li>5</li>\n",
       "\t<li>4</li>\n",
       "</ol>\n"
      ],
      "text/latex": [
       "\\begin{enumerate*}\n",
       "\\item 3\n",
       "\\item 3\n",
       "\\item 3\n",
       "\\item 2\n",
       "\\item 1\n",
       "\\item 1\n",
       "\\item 2\n",
       "\\item 4\n",
       "\\item 6\n",
       "\\item 6\n",
       "\\item 3\n",
       "\\item 5\n",
       "\\item 6\n",
       "\\item 4\n",
       "\\item 6\n",
       "\\item 5\n",
       "\\item 4\n",
       "\\item 1\n",
       "\\item 1\n",
       "\\item 5\n",
       "\\item 1\n",
       "\\item 5\n",
       "\\item 4\n",
       "\\item 1\n",
       "\\item 2\n",
       "\\item 1\n",
       "\\item 3\n",
       "\\item 4\n",
       "\\item 6\n",
       "\\item 2\n",
       "\\item 4\n",
       "\\item 1\n",
       "\\item 4\n",
       "\\item 1\n",
       "\\item 4\n",
       "\\item 2\n",
       "\\item 3\n",
       "\\item 3\n",
       "\\item 4\n",
       "\\item 6\n",
       "\\item 5\n",
       "\\item 5\n",
       "\\item 5\n",
       "\\item 1\n",
       "\\item 5\n",
       "\\item 6\n",
       "\\item 4\n",
       "\\item 5\n",
       "\\item 5\n",
       "\\item 4\n",
       "\\end{enumerate*}\n"
      ],
      "text/markdown": [
       "1. 3\n",
       "2. 3\n",
       "3. 3\n",
       "4. 2\n",
       "5. 1\n",
       "6. 1\n",
       "7. 2\n",
       "8. 4\n",
       "9. 6\n",
       "10. 6\n",
       "11. 3\n",
       "12. 5\n",
       "13. 6\n",
       "14. 4\n",
       "15. 6\n",
       "16. 5\n",
       "17. 4\n",
       "18. 1\n",
       "19. 1\n",
       "20. 5\n",
       "21. 1\n",
       "22. 5\n",
       "23. 4\n",
       "24. 1\n",
       "25. 2\n",
       "26. 1\n",
       "27. 3\n",
       "28. 4\n",
       "29. 6\n",
       "30. 2\n",
       "31. 4\n",
       "32. 1\n",
       "33. 4\n",
       "34. 1\n",
       "35. 4\n",
       "36. 2\n",
       "37. 3\n",
       "38. 3\n",
       "39. 4\n",
       "40. 6\n",
       "41. 5\n",
       "42. 5\n",
       "43. 5\n",
       "44. 1\n",
       "45. 5\n",
       "46. 6\n",
       "47. 4\n",
       "48. 5\n",
       "49. 5\n",
       "50. 4\n",
       "\n",
       "\n"
      ],
      "text/plain": [
       " [1] 3 3 3 2 1 1 2 4 6 6 3 5 6 4 6 5 4 1 1 5 1 5 4 1 2 1 3 4 6 2 4 1 4 1 4 2 3 3\n",
       "[39] 4 6 5 5 5 1 5 6 4 5 5 4"
      ]
     },
     "metadata": {},
     "output_type": "display_data"
    }
   ],
   "source": [
    "test1[1:50]"
   ]
  },
  {
   "cell_type": "markdown",
   "metadata": {},
   "source": [
    "If the dice is fair, (So we are simulating correctly), we expect to have _the same_ frequencies for the six numbers. The best way yo visualze that is doing a histogram,"
   ]
  },
  {
   "cell_type": "code",
   "execution_count": 5,
   "metadata": {
    "ExecuteTime": {
     "end_time": "2019-10-17T14:04:24.382347Z",
     "start_time": "2019-10-17T14:04:24.292Z"
    }
   },
   "outputs": [
    {
     "data": {
      "image/png": "[encoded data removed]",
      "text/plain": [
       "Plot with title \"Histogram of test1\""
      ]
     },
     "metadata": {},
     "output_type": "display_data"
    }
   ],
   "source": [
    "hist(test1,breaks = seq(0,6)+0.5)"
   ]
  },
  {
   "cell_type": "markdown",
   "metadata": {},
   "source": [
    "This histogram is very particular because a difference of the ones we had done before, we are using the parameter `breaks = seq(0,6)+0.5`, the reason for that, is that `R` will choose the amount of bins it plots on the histogram, and as on our case we have discrete values it is meaningless to have more bins than values so we forced it to build the histogram counting all the values between $0.5$ and $1.5$ for the first bin, from $1.5$ to $2.5$ for the second and so on, to see more clearly this, let us plot the vector which we passed as parameter of the option `breaks`."
   ]
  },
  {
   "cell_type": "code",
   "execution_count": 8,
   "metadata": {
    "ExecuteTime": {
     "end_time": "2019-10-17T14:10:08.465789Z",
     "start_time": "2019-10-17T14:10:08.436Z"
    }
   },
   "outputs": [
    {
     "name": "stdout",
     "output_type": "stream",
     "text": [
      "[1] 0.5 1.5 2.5 3.5 4.5 5.5 6.5\n"
     ]
    }
   ],
   "source": [
    "print(seq(0,6)+0.5)"
   ]
  },
  {
   "cell_type": "markdown",
   "metadata": {},
   "source": [
    "We could have used a different `breaks` sequence in order to get _better_ visualization, for instance "
   ]
  },
  {
   "cell_type": "code",
   "execution_count": 12,
   "metadata": {
    "ExecuteTime": {
     "end_time": "2019-10-17T14:10:44.249290Z",
     "start_time": "2019-10-17T14:10:44.220Z"
    }
   },
   "outputs": [
    {
     "name": "stdout",
     "output_type": "stream",
     "text": [
      " [1] 0.25 0.75 1.25 1.75 2.25 2.75 3.25 3.75 4.25 4.75 5.25 5.75 6.25\n"
     ]
    }
   ],
   "source": [
    "print(seq(0,6,0.5)+0.25)"
   ]
  },
  {
   "cell_type": "code",
   "execution_count": 13,
   "metadata": {
    "ExecuteTime": {
     "end_time": "2019-10-17T14:11:27.497029Z",
     "start_time": "2019-10-17T14:11:27.468Z"
    }
   },
   "outputs": [
    {
     "ename": "ERROR",
     "evalue": "Error in parse(text = x, srcfile = src): <text>:1:4: unexpected symbol\n1: So it\n       ^\n",
     "output_type": "error",
     "traceback": [
      "Error in parse(text = x, srcfile = src): <text>:1:4: unexpected symbol\n1: So it\n       ^\nTraceback:\n"
     ]
    }
   ],
   "source": [
    "So it look like we have thinner bars,"
   ]
  },
  {
   "cell_type": "code",
   "execution_count": 18,
   "metadata": {
    "ExecuteTime": {
     "end_time": "2019-10-17T14:11:56.670340Z",
     "start_time": "2019-10-17T14:11:56.595Z"
    }
   },
   "outputs": [
    {
     "data": {
      "image/png": "[encoded data removed]",
      "text/plain": [
       "Plot with title \"Histogram of test1\""
      ]
     },
     "metadata": {},
     "output_type": "display_data"
    }
   ],
   "source": [
    "hist(test1,breaks = seq(0,6,0.5)+0.25,col=\"orange\")"
   ]
  },
  {
   "cell_type": "markdown",
   "metadata": {},
   "source": [
    "This plots still look very poor, but we will get to styling those plots using `ggplot`, which is bigger than just for `R`."
   ]
  },
  {
   "cell_type": "code",
   "execution_count": 35,
   "metadata": {
    "ExecuteTime": {
     "end_time": "2019-10-16T16:36:04.587671Z",
     "start_time": "2019-10-16T16:36:04.565Z"
    }
   },
   "outputs": [],
   "source": [
    "test2=sample(dice,10000,replace=T)"
   ]
  },
  {
   "cell_type": "code",
   "execution_count": 37,
   "metadata": {
    "ExecuteTime": {
     "end_time": "2019-10-16T16:36:54.717327Z",
     "start_time": "2019-10-16T16:36:54.686Z"
    }
   },
   "outputs": [
    {
     "data": {
      "text/html": [
       "0.0282"
      ],
      "text/latex": [
       "0.0282"
      ],
      "text/markdown": [
       "0.0282"
      ],
      "text/plain": [
       "[1] 0.0282"
      ]
     },
     "metadata": {},
     "output_type": "display_data"
    }
   ],
   "source": [
    "n=length(test2)\n",
    "sum(test1 == 1 & test2 == 2)/n"
   ]
  },
  {
   "cell_type": "code",
   "execution_count": null,
   "metadata": {},
   "outputs": [],
   "source": []
  }
 ],
 "metadata": {
  "kernelspec": {
   "display_name": "R",
   "language": "R",
   "name": "ir"
  },
  "language_info": {
   "codemirror_mode": "r",
   "file_extension": ".r",
   "mimetype": "text/x-r-source",
   "name": "R",
   "pygments_lexer": "r",
   "version": "3.6.1"
  },
  "latex_envs": {
   "LaTeX_envs_menu_present": true,
   "autoclose": true,
   "autocomplete": true,
   "bibliofile": "biblio.bib",
   "cite_by": "apalike",
   "current_citInitial": 1,
   "eqLabelWithNumbers": true,
   "eqNumInitial": 1,
   "hotkeys": {
    "equation": "Ctrl-E",
    "itemize": "Ctrl-I"
   },
   "labels_anchors": false,
   "latex_user_defs": false,
   "report_style_numbering": true,
   "user_envs_cfg": false
  },
  "varInspector": {
   "cols": {
    "lenName": 16,
    "lenType": 16,
    "lenVar": 40
   },
   "kernels_config": {
    "python": {
     "delete_cmd_postfix": "",
     "delete_cmd_prefix": "del ",
     "library": "var_list.py",
     "varRefreshCmd": "print(var_dic_list())"
    },
    "r": {
     "delete_cmd_postfix": ") ",
     "delete_cmd_prefix": "rm(",
     "library": "var_list.r",
     "varRefreshCmd": "cat(var_dic_list()) "
    }
   },
   "types_to_exclude": [
    "module",
    "function",
    "builtin_function_or_method",
    "instance",
    "_Feature"
   ],
   "window_display": false
  }
 },
 "nbformat": 4,
 "nbformat_minor": 2
}
